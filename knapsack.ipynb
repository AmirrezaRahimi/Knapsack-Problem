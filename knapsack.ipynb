{
 "cells": [
  {
   "cell_type": "markdown",
   "id": "97c45e91",
   "metadata": {},
   "source": [
    "از کتابخانه پانداز برای مدیریت دیتا استفاده شده است"
   ]
  },
  {
   "cell_type": "code",
   "execution_count": 1,
   "id": "51b6beea",
   "metadata": {},
   "outputs": [],
   "source": [
    "import pandas as pd\n",
    "import copy"
   ]
  },
  {
   "cell_type": "markdown",
   "id": "322e7998",
   "metadata": {},
   "source": [
    "دیتا به صورت یک فایل سی اس وی ذخیره شده است \n",
    "از آدرس مورد نظر دیتا را برمیداریم"
   ]
  },
  {
   "cell_type": "code",
   "execution_count": 2,
   "id": "d3c8c61b",
   "metadata": {
    "scrolled": true
   },
   "outputs": [
    {
     "data": {
      "text/html": [
       "<div>\n",
       "<style scoped>\n",
       "    .dataframe tbody tr th:only-of-type {\n",
       "        vertical-align: middle;\n",
       "    }\n",
       "\n",
       "    .dataframe tbody tr th {\n",
       "        vertical-align: top;\n",
       "    }\n",
       "\n",
       "    .dataframe thead th {\n",
       "        text-align: right;\n",
       "    }\n",
       "</style>\n",
       "<table border=\"1\" class=\"dataframe\">\n",
       "  <thead>\n",
       "    <tr style=\"text-align: right;\">\n",
       "      <th></th>\n",
       "      <th>Namad</th>\n",
       "      <th>Value</th>\n",
       "      <th>Profit</th>\n",
       "    </tr>\n",
       "  </thead>\n",
       "  <tbody>\n",
       "    <tr>\n",
       "      <th>0</th>\n",
       "      <td>vlsapa</td>\n",
       "      <td>6012037</td>\n",
       "      <td>560000</td>\n",
       "    </tr>\n",
       "    <tr>\n",
       "      <th>1</th>\n",
       "      <td>nori</td>\n",
       "      <td>15011070</td>\n",
       "      <td>240000</td>\n",
       "    </tr>\n",
       "    <tr>\n",
       "      <th>2</th>\n",
       "      <td>kala</td>\n",
       "      <td>3066057</td>\n",
       "      <td>95000</td>\n",
       "    </tr>\n",
       "    <tr>\n",
       "      <th>3</th>\n",
       "      <td>pizd</td>\n",
       "      <td>5090040</td>\n",
       "      <td>41000</td>\n",
       "    </tr>\n",
       "    <tr>\n",
       "      <th>4</th>\n",
       "      <td>sita</td>\n",
       "      <td>2500306</td>\n",
       "      <td>114900</td>\n",
       "    </tr>\n",
       "    <tr>\n",
       "      <th>5</th>\n",
       "      <td>sharom</td>\n",
       "      <td>17736990</td>\n",
       "      <td>1700000</td>\n",
       "    </tr>\n",
       "    <tr>\n",
       "      <th>6</th>\n",
       "      <td>ghzr</td>\n",
       "      <td>1030063</td>\n",
       "      <td>750000</td>\n",
       "    </tr>\n",
       "    <tr>\n",
       "      <th>7</th>\n",
       "      <td>brkt</td>\n",
       "      <td>14700090</td>\n",
       "      <td>117000</td>\n",
       "    </tr>\n",
       "    <tr>\n",
       "      <th>8</th>\n",
       "      <td>shsta</td>\n",
       "      <td>23061070</td>\n",
       "      <td>890000</td>\n",
       "    </tr>\n",
       "    <tr>\n",
       "      <th>9</th>\n",
       "      <td>abada</td>\n",
       "      <td>4000520</td>\n",
       "      <td>137000</td>\n",
       "    </tr>\n",
       "    <tr>\n",
       "      <th>10</th>\n",
       "      <td>daraykm</td>\n",
       "      <td>11800530</td>\n",
       "      <td>578000</td>\n",
       "    </tr>\n",
       "    <tr>\n",
       "      <th>11</th>\n",
       "      <td>aria</td>\n",
       "      <td>19040100</td>\n",
       "      <td>635680</td>\n",
       "    </tr>\n",
       "  </tbody>\n",
       "</table>\n",
       "</div>"
      ],
      "text/plain": [
       "      Namad     Value   Profit\n",
       "0    vlsapa   6012037   560000\n",
       "1      nori  15011070   240000\n",
       "2      kala   3066057    95000\n",
       "3      pizd   5090040    41000\n",
       "4      sita   2500306   114900\n",
       "5    sharom  17736990  1700000\n",
       "6      ghzr   1030063   750000\n",
       "7      brkt  14700090   117000\n",
       "8     shsta  23061070   890000\n",
       "9     abada   4000520   137000\n",
       "10  daraykm  11800530   578000\n",
       "11     aria  19040100   635680"
      ]
     },
     "execution_count": 2,
     "metadata": {},
     "output_type": "execute_result"
    }
   ],
   "source": [
    "df = pd.read_csv(\"Boors.csv\")\n",
    "df"
   ]
  },
  {
   "cell_type": "markdown",
   "id": "ea3d35e3",
   "metadata": {},
   "source": [
    "یک ستون ارزش بر وزن اضافه میکنیم"
   ]
  },
  {
   "cell_type": "code",
   "execution_count": 3,
   "id": "bb49e58e",
   "metadata": {
    "scrolled": true
   },
   "outputs": [
    {
     "data": {
      "text/html": [
       "<div>\n",
       "<style scoped>\n",
       "    .dataframe tbody tr th:only-of-type {\n",
       "        vertical-align: middle;\n",
       "    }\n",
       "\n",
       "    .dataframe tbody tr th {\n",
       "        vertical-align: top;\n",
       "    }\n",
       "\n",
       "    .dataframe thead th {\n",
       "        text-align: right;\n",
       "    }\n",
       "</style>\n",
       "<table border=\"1\" class=\"dataframe\">\n",
       "  <thead>\n",
       "    <tr style=\"text-align: right;\">\n",
       "      <th></th>\n",
       "      <th>Namad</th>\n",
       "      <th>Value</th>\n",
       "      <th>Profit</th>\n",
       "      <th>Profit/Value</th>\n",
       "    </tr>\n",
       "  </thead>\n",
       "  <tbody>\n",
       "    <tr>\n",
       "      <th>0</th>\n",
       "      <td>vlsapa</td>\n",
       "      <td>6012037</td>\n",
       "      <td>560000</td>\n",
       "      <td>0.093146</td>\n",
       "    </tr>\n",
       "    <tr>\n",
       "      <th>1</th>\n",
       "      <td>nori</td>\n",
       "      <td>15011070</td>\n",
       "      <td>240000</td>\n",
       "      <td>0.015988</td>\n",
       "    </tr>\n",
       "    <tr>\n",
       "      <th>2</th>\n",
       "      <td>kala</td>\n",
       "      <td>3066057</td>\n",
       "      <td>95000</td>\n",
       "      <td>0.030984</td>\n",
       "    </tr>\n",
       "    <tr>\n",
       "      <th>3</th>\n",
       "      <td>pizd</td>\n",
       "      <td>5090040</td>\n",
       "      <td>41000</td>\n",
       "      <td>0.008055</td>\n",
       "    </tr>\n",
       "    <tr>\n",
       "      <th>4</th>\n",
       "      <td>sita</td>\n",
       "      <td>2500306</td>\n",
       "      <td>114900</td>\n",
       "      <td>0.045954</td>\n",
       "    </tr>\n",
       "    <tr>\n",
       "      <th>5</th>\n",
       "      <td>sharom</td>\n",
       "      <td>17736990</td>\n",
       "      <td>1700000</td>\n",
       "      <td>0.095845</td>\n",
       "    </tr>\n",
       "    <tr>\n",
       "      <th>6</th>\n",
       "      <td>ghzr</td>\n",
       "      <td>1030063</td>\n",
       "      <td>750000</td>\n",
       "      <td>0.728111</td>\n",
       "    </tr>\n",
       "    <tr>\n",
       "      <th>7</th>\n",
       "      <td>brkt</td>\n",
       "      <td>14700090</td>\n",
       "      <td>117000</td>\n",
       "      <td>0.007959</td>\n",
       "    </tr>\n",
       "    <tr>\n",
       "      <th>8</th>\n",
       "      <td>shsta</td>\n",
       "      <td>23061070</td>\n",
       "      <td>890000</td>\n",
       "      <td>0.038593</td>\n",
       "    </tr>\n",
       "    <tr>\n",
       "      <th>9</th>\n",
       "      <td>abada</td>\n",
       "      <td>4000520</td>\n",
       "      <td>137000</td>\n",
       "      <td>0.034246</td>\n",
       "    </tr>\n",
       "    <tr>\n",
       "      <th>10</th>\n",
       "      <td>daraykm</td>\n",
       "      <td>11800530</td>\n",
       "      <td>578000</td>\n",
       "      <td>0.048981</td>\n",
       "    </tr>\n",
       "    <tr>\n",
       "      <th>11</th>\n",
       "      <td>aria</td>\n",
       "      <td>19040100</td>\n",
       "      <td>635680</td>\n",
       "      <td>0.033386</td>\n",
       "    </tr>\n",
       "  </tbody>\n",
       "</table>\n",
       "</div>"
      ],
      "text/plain": [
       "      Namad     Value   Profit  Profit/Value\n",
       "0    vlsapa   6012037   560000      0.093146\n",
       "1      nori  15011070   240000      0.015988\n",
       "2      kala   3066057    95000      0.030984\n",
       "3      pizd   5090040    41000      0.008055\n",
       "4      sita   2500306   114900      0.045954\n",
       "5    sharom  17736990  1700000      0.095845\n",
       "6      ghzr   1030063   750000      0.728111\n",
       "7      brkt  14700090   117000      0.007959\n",
       "8     shsta  23061070   890000      0.038593\n",
       "9     abada   4000520   137000      0.034246\n",
       "10  daraykm  11800530   578000      0.048981\n",
       "11     aria  19040100   635680      0.033386"
      ]
     },
     "execution_count": 3,
     "metadata": {},
     "output_type": "execute_result"
    }
   ],
   "source": [
    "df['Profit/Value'] = df.Profit/df.Value\n",
    "df"
   ]
  },
  {
   "cell_type": "raw",
   "id": "b5c82349",
   "metadata": {},
   "source": [
    "بر اساس ستون ارزش بر وزن دیتاها را سورت میکنیم"
   ]
  },
  {
   "cell_type": "code",
   "execution_count": 4,
   "id": "0d12d731",
   "metadata": {},
   "outputs": [
    {
     "data": {
      "text/html": [
       "<div>\n",
       "<style scoped>\n",
       "    .dataframe tbody tr th:only-of-type {\n",
       "        vertical-align: middle;\n",
       "    }\n",
       "\n",
       "    .dataframe tbody tr th {\n",
       "        vertical-align: top;\n",
       "    }\n",
       "\n",
       "    .dataframe thead th {\n",
       "        text-align: right;\n",
       "    }\n",
       "</style>\n",
       "<table border=\"1\" class=\"dataframe\">\n",
       "  <thead>\n",
       "    <tr style=\"text-align: right;\">\n",
       "      <th></th>\n",
       "      <th>Namad</th>\n",
       "      <th>Value</th>\n",
       "      <th>Profit</th>\n",
       "      <th>Profit/Value</th>\n",
       "    </tr>\n",
       "  </thead>\n",
       "  <tbody>\n",
       "    <tr>\n",
       "      <th>7</th>\n",
       "      <td>brkt</td>\n",
       "      <td>14700090</td>\n",
       "      <td>117000</td>\n",
       "      <td>0.007959</td>\n",
       "    </tr>\n",
       "    <tr>\n",
       "      <th>3</th>\n",
       "      <td>pizd</td>\n",
       "      <td>5090040</td>\n",
       "      <td>41000</td>\n",
       "      <td>0.008055</td>\n",
       "    </tr>\n",
       "    <tr>\n",
       "      <th>1</th>\n",
       "      <td>nori</td>\n",
       "      <td>15011070</td>\n",
       "      <td>240000</td>\n",
       "      <td>0.015988</td>\n",
       "    </tr>\n",
       "    <tr>\n",
       "      <th>2</th>\n",
       "      <td>kala</td>\n",
       "      <td>3066057</td>\n",
       "      <td>95000</td>\n",
       "      <td>0.030984</td>\n",
       "    </tr>\n",
       "    <tr>\n",
       "      <th>11</th>\n",
       "      <td>aria</td>\n",
       "      <td>19040100</td>\n",
       "      <td>635680</td>\n",
       "      <td>0.033386</td>\n",
       "    </tr>\n",
       "    <tr>\n",
       "      <th>9</th>\n",
       "      <td>abada</td>\n",
       "      <td>4000520</td>\n",
       "      <td>137000</td>\n",
       "      <td>0.034246</td>\n",
       "    </tr>\n",
       "    <tr>\n",
       "      <th>8</th>\n",
       "      <td>shsta</td>\n",
       "      <td>23061070</td>\n",
       "      <td>890000</td>\n",
       "      <td>0.038593</td>\n",
       "    </tr>\n",
       "    <tr>\n",
       "      <th>4</th>\n",
       "      <td>sita</td>\n",
       "      <td>2500306</td>\n",
       "      <td>114900</td>\n",
       "      <td>0.045954</td>\n",
       "    </tr>\n",
       "    <tr>\n",
       "      <th>10</th>\n",
       "      <td>daraykm</td>\n",
       "      <td>11800530</td>\n",
       "      <td>578000</td>\n",
       "      <td>0.048981</td>\n",
       "    </tr>\n",
       "    <tr>\n",
       "      <th>0</th>\n",
       "      <td>vlsapa</td>\n",
       "      <td>6012037</td>\n",
       "      <td>560000</td>\n",
       "      <td>0.093146</td>\n",
       "    </tr>\n",
       "    <tr>\n",
       "      <th>5</th>\n",
       "      <td>sharom</td>\n",
       "      <td>17736990</td>\n",
       "      <td>1700000</td>\n",
       "      <td>0.095845</td>\n",
       "    </tr>\n",
       "    <tr>\n",
       "      <th>6</th>\n",
       "      <td>ghzr</td>\n",
       "      <td>1030063</td>\n",
       "      <td>750000</td>\n",
       "      <td>0.728111</td>\n",
       "    </tr>\n",
       "  </tbody>\n",
       "</table>\n",
       "</div>"
      ],
      "text/plain": [
       "      Namad     Value   Profit  Profit/Value\n",
       "7      brkt  14700090   117000      0.007959\n",
       "3      pizd   5090040    41000      0.008055\n",
       "1      nori  15011070   240000      0.015988\n",
       "2      kala   3066057    95000      0.030984\n",
       "11     aria  19040100   635680      0.033386\n",
       "9     abada   4000520   137000      0.034246\n",
       "8     shsta  23061070   890000      0.038593\n",
       "4      sita   2500306   114900      0.045954\n",
       "10  daraykm  11800530   578000      0.048981\n",
       "0    vlsapa   6012037   560000      0.093146\n",
       "5    sharom  17736990  1700000      0.095845\n",
       "6      ghzr   1030063   750000      0.728111"
      ]
     },
     "execution_count": 4,
     "metadata": {},
     "output_type": "execute_result"
    }
   ],
   "source": [
    "df = df.sort_values(by='Profit/Value')\n",
    "df"
   ]
  },
  {
   "cell_type": "markdown",
   "id": "de2cdbf1",
   "metadata": {},
   "source": [
    "داده های سورت شده را در سه آرایه ذخیره میکنیم"
   ]
  },
  {
   "cell_type": "code",
   "execution_count": 5,
   "id": "5b55bd0d",
   "metadata": {},
   "outputs": [],
   "source": [
    "values = df.Value.values \n",
    "profits = df.Profit.values\n",
    "symbol = df.Namad.values"
   ]
  },
  {
   "cell_type": "markdown",
   "id": "9b4e50f5",
   "metadata": {},
   "source": [
    "مقدار سرمایه اس که داریم در متغیر فاند ذخیره شده"
   ]
  },
  {
   "cell_type": "code",
   "execution_count": 6,
   "id": "d313a9f2",
   "metadata": {},
   "outputs": [],
   "source": [
    "fund = 100000000"
   ]
  },
  {
   "cell_type": "markdown",
   "id": "7cac9b19",
   "metadata": {},
   "source": [
    " دیتاها برای الگوریتم حرصانه براساس ارزش بر وزن مرتب سازی شده بودند بر همین اساس به ترتیب مجموع وزن ها را چک میکینم تا جایی که از سرمایه ما بیشتر نشود و در نهایت به ترتیب مقدار سرمایه مورد نیاز و بیشترین سود ممکن و سهام های خریده شده به ما گفته میشود"
   ]
  },
  {
   "cell_type": "code",
   "execution_count": 7,
   "id": "76b17481",
   "metadata": {},
   "outputs": [],
   "source": [
    "def greedy():\n",
    "    max_value = 0\n",
    "    max_profit = 0\n",
    "    symbols = []\n",
    "    for i in range(0,12):\n",
    "        if (max_value + values[i]) < fund:\n",
    "            max_value += values[i]\n",
    "            max_profit += profits[i]\n",
    "            symbols.append(symbol[i])\n",
    "\n",
    "    print('greedy_value= ' , max_value)\n",
    "    print('greedy_profit= ' , max_profit)\n",
    "    print('greedy_symbols=' , symbols)"
   ]
  },
  {
   "cell_type": "code",
   "execution_count": 8,
   "id": "8f3f1306",
   "metadata": {},
   "outputs": [
    {
     "name": "stdout",
     "output_type": "stream",
     "text": [
      "greedy_value=  99299846\n",
      "greedy_profit=  3598580\n",
      "greedy_symbols= ['brkt', 'pizd', 'nori', 'kala', 'aria', 'abada', 'shsta', 'sita', 'daraykm', 'ghzr']\n"
     ]
    }
   ],
   "source": [
    "greedy()"
   ]
  },
  {
   "cell_type": "markdown",
   "id": "b8d25c01",
   "metadata": {},
   "source": [
    "در الگوریتم عقبگرد به ترتیب ماکسیمم وزن یا همان سرمایه ما و لیست وزن و لیست سود و تعداد سهام ها و نمادها را به تابع میدهیم"
   ]
  },
  {
   "cell_type": "code",
   "execution_count": 9,
   "id": "08a402c7",
   "metadata": {},
   "outputs": [],
   "source": [
    "def Backtracking(fund,values,profits,n,symbols):\n",
    "    if(fund == 0 or n == 0):\n",
    "        return [0,[]]\n",
    "    if(values[n-1] > fund):\n",
    "        return Backtracking(fund,values,profits,n-1,symbols)\n",
    "    select_node = Backtracking(fund-values[n-1],values,profits,n-1,symbols)\n",
    "    not_select_node = Backtracking(fund,values,profits,n-1,symbols)\n",
    "    if(select_node[0]+profits[n-1] > not_select_node[0]):\n",
    "        select_node[1].append(symbols[n-1])\n",
    "        select_node[0] += profits[n-1]\n",
    "        return select_node\n",
    "    else:\n",
    "        return not_select_node"
   ]
  },
  {
   "cell_type": "markdown",
   "id": "60e32bda",
   "metadata": {},
   "source": [
    "اجرای عقبگرد مقدار سود و سهام های خریداری شده در این الگوریتم را به راه به ما میدهد"
   ]
  },
  {
   "cell_type": "code",
   "execution_count": 10,
   "id": "56d1a931",
   "metadata": {
    "scrolled": false
   },
   "outputs": [
    {
     "name": "stdout",
     "output_type": "stream",
     "text": [
      "Backtracking_profit=  5563580\n",
      "Backtracking_symbols=  ['nori', 'kala', 'aria', 'shsta', 'sita', 'daraykm', 'vlsapa', 'sharom', 'ghzr']\n"
     ]
    }
   ],
   "source": [
    "BT = Backtracking(fund,values,profits,12,symbol)\n",
    "print('Backtracking_profit= ' , BT[0])\n",
    "print('Backtracking_symbols= ' , BT[1])"
   ]
  },
  {
   "cell_type": "markdown",
   "id": "dd1a9e62",
   "metadata": {},
   "source": [
    "برای الگوریتم پویا دو تابع نوشته شده که ماکسیمم سود را به ما میدهد با این تفاوت که در اولی یک جدول 100000000 در 12 درست میکند ولی دومی فقط یک آرایه به طول 100000000 درست میکند که در هر صورت چون طول آرایه بسیار بزرگ میشود زمان اجرا بسیار برای این داده ما زیاد است "
   ]
  },
  {
   "cell_type": "code",
   "execution_count": 13,
   "id": "e0b4d90b",
   "metadata": {},
   "outputs": [],
   "source": [
    "def Dynamic(Wightknapsack, wightvalue, value, items):\n",
    "    length = len(items)\n",
    "    K = [[0 for x in range(Wightknapsack + 1)] for x in range(length + 1)]\n",
    "    for i in range(length + 1):\n",
    "        for wight in range(Wightknapsack + 1):\n",
    "            if i == 0 or wight == 0:\n",
    "                K[i][wight] = 0\n",
    "            elif wightvalue[i-1] <= wight:\n",
    "                K[i][wight] = max(value[i-1] + K[i-1][wight-wightvalue[i-1]],  K[i-1][wight])\n",
    "            else:\n",
    "                K[i][wight] = K[i-1][wight]\n",
    "    return [K[length][Wightknapsack]]"
   ]
  },
  {
   "cell_type": "code",
   "execution_count": 14,
   "id": "3d36992e",
   "metadata": {},
   "outputs": [
    {
     "name": "stdout",
     "output_type": "stream",
     "text": [
      "12\n"
     ]
    },
    {
     "data": {
      "text/plain": [
       "[5563580]"
      ]
     },
     "execution_count": 14,
     "metadata": {},
     "output_type": "execute_result"
    }
   ],
   "source": [
    "Dynamic(fund,values,profits,12)"
   ]
  },
  {
   "cell_type": "code",
   "execution_count": 15,
   "id": "8aa1e080",
   "metadata": {},
   "outputs": [],
   "source": [
    "def knapSack(W, wt, val, n):\n",
    "    dp = [0 for i in range(W+1)]  # Making the dp array\n",
    " \n",
    "    for i in range(1, n+1):  # taking first i elements\n",
    "        for w in range(W, 0, -1):  # starting from back,so that we also have data of\n",
    "                                # previous computation when taking i-1 items\n",
    "            if wt[i-1] <= w:\n",
    "                # finding the maximum value\n",
    "                dp[w] = max(dp[w], dp[w-wt[i-1]]+val[i-1])\n",
    " \n",
    "    return dp[W]  # returning the maximum value of knapsack"
   ]
  },
  {
   "cell_type": "code",
   "execution_count": 17,
   "id": "c6456f1f",
   "metadata": {},
   "outputs": [
    {
     "data": {
      "text/plain": [
       "5563580"
      ]
     },
     "execution_count": 17,
     "metadata": {},
     "output_type": "execute_result"
    }
   ],
   "source": [
    "knapSack(fund,values,profits,12)"
   ]
  }
 ],
 "metadata": {
  "kernelspec": {
   "display_name": "Python 3 (ipykernel)",
   "language": "python",
   "name": "python3"
  },
  "language_info": {
   "codemirror_mode": {
    "name": "ipython",
    "version": 3
   },
   "file_extension": ".py",
   "mimetype": "text/x-python",
   "name": "python",
   "nbconvert_exporter": "python",
   "pygments_lexer": "ipython3",
   "version": "3.9.12"
  }
 },
 "nbformat": 4,
 "nbformat_minor": 5
}
